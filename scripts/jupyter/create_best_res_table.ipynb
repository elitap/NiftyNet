{
 "cells": [
  {
   "cell_type": "code",
   "execution_count": 20,
   "metadata": {},
   "outputs": [],
   "source": [
    "import tabulate\n",
    "import numpy as np\n",
    "import pandas as pd"
   ]
  },
  {
   "cell_type": "code",
   "execution_count": 72,
   "metadata": {},
   "outputs": [
    {
     "name": "stdout",
     "output_type": "stream",
     "text": [
      "\\begin{tabular}{rrrrrrrrrr}\n",
      "\\toprule\n",
      "              &   FH &   IM &   UB &   UC &   UW &   VU &   SJTU &   SU &   UMIT \\\\\n",
      "\\midrule\n",
      "    Brainstem & 0.75 & 0.87 & 0.85 & 0.86 &      & 0.8  &        &      &   0.82 \\\\\n",
      "       Chiasm & 0.36 & 0.38 & 0.56 &      &      & 0.37 &   0.58 & 0.37 &   0.42 \\\\\n",
      "     Mandible & 0.82 & 0.93 & 0.89 & 0.94 & 0.78 & 0.92 &        & 0.9  &   0.91 \\\\\n",
      " OpticNerve\\_L & 0.47 & 0.69 & 0.6  &      & 0.34 & 0.64 &   0.72 & 0.64 &   0.64 \\\\\n",
      " OpticNerve\\_R & 0.51 & 0.67 & 0.63 &      & 0.28 & 0.6  &   0.7  & 0.64 &   0.63 \\\\\n",
      "    Parotid\\_L & 0.69 & 0.85 & 0.83 & 0.78 &      & 0.81 &        & 0.77 &   0.8  \\\\\n",
      "    Parotid\\_R & 0.69 & 0.83 & 0.8  & 0.75 &      & 0.81 &        & 0.78 &   0.81 \\\\\n",
      "\\bottomrule\n",
      "\\end{tabular}\n",
      "\\begin{tabular}{rrrrrrrrrr}\n",
      "\\toprule\n",
      "              &   FH &   IM &   UB &   UC &    UW &   VU &   SJTU &   SU &   UMIT \\\\\n",
      "\\midrule\n",
      "    Brainstem & 5.99 & 3.87 & 4.63 & 3.98 &       & 5.31 &        &      &  12.4  \\\\\n",
      "       Chiasm & 3.96 & 3.45 & 2.75 &      &       & 4.13 &   2.81 &      &   4.36 \\\\\n",
      "     Mandible & 4.1  & 2.05 & 2.63 & 1.86 & 12.78 & 2.41 &        &      &   2.4  \\\\\n",
      " OpticNerve\\_L & 3.5  & 2.42 & 3.29 &      &  8.56 & 2.82 &   2.33 &      &   2.83 \\\\\n",
      " OpticNerve\\_R & 3.17 & 2.64 & 3.26 &      &  8.63 & 3.2  &   2.13 &      &   2.59 \\\\\n",
      "    Parotid\\_L & 8.14 & 5.32 & 5.01 & 6.7  &       & 7.04 &        &      &  14.1  \\\\\n",
      "    Parotid\\_R & 8.28 & 6.16 & 6.25 & 7.34 &       & 6.62 &        &      &   5.24 \\\\\n",
      "\\bottomrule\n",
      "\\end{tabular}\n"
     ]
    }
   ],
   "source": [
    "csvfile = \"../../results/results_paper_graph_final.csv\"\n",
    "df = pd.read_csv(csvfile)\n",
    "\n",
    "temp_df = df.drop(['std-95hd','mean-95hd', 'std-dice'], axis=1)\n",
    "df2plot_mean_dice = temp_df.pivot(index='organ', columns='Groups', values='mean-dice')\n",
    "\n",
    "cols = df2plot_mean_dice.columns.tolist()\n",
    "indices = df2plot_mean_dice.index.values\n",
    "cols.insert(len(cols)-1, cols.pop(cols.index('SJTU')))\n",
    "cols.insert(len(cols)-1, cols.pop(cols.index('SU')))\n",
    "cols.insert(len(cols), cols.pop(cols.index('UMIT')))\n",
    "\n",
    "temp_df = df.drop(['std-95hd', 'mean-95hd', 'mean-dice'], axis=1)\n",
    "df2plot_std_dice = temp_df.pivot(index='organ', columns='Groups', values='std-dice')\n",
    "\n",
    "temp_df = df.drop(['std-dice', 'mean-dice', 'std-95hd'], axis=1)\n",
    "df2plot_mean_95hd = temp_df.pivot(index='organ', columns='Groups', values='mean-95hd')\n",
    "\n",
    "\n",
    "temp_df = df.drop(['std-dice', 'mean-dice', 'mean-95hd'], axis=1)\n",
    "df2plot_std_95hd = temp_df.pivot(index='organ', columns='Groups', values='std-95hd')\n",
    "\n",
    "df2plot_mean_dice = df2plot_mean_dice.reindex(columns=cols)\n",
    "df2plot_std_dice = df2plot_std_dice.reindex(columns=cols)\n",
    "df2plot_mean_95hd = df2plot_mean_95hd.reindex(columns=cols)\n",
    "df2plot_std_95hd = df2plot_std_95hd.reindex(columns=cols)\n",
    "\n",
    "def printLatexTable(value_df, std_df, indices, round_dec = 2):  \n",
    "\n",
    "    value_np = np.round(value_df.values, round_dec).astype('str')\n",
    "    #std_np = np.round(std_df.values, round_dec).astype('str')\n",
    "\n",
    "    table = list()\n",
    "    for cnt, row in enumerate(value_np):\n",
    "    #    table.append([(row[i] + \" ? \" + std_np[cnt,i]) if row[i] not in 'nan' else '' for i in range(len(row))])\n",
    "        table.append([str(row[i]) if row[i] not in 'nan' else '' for i in range(len(row))])\n",
    "    \n",
    "    table = np.c_[indices, table]#(, 0, axis=1)    \n",
    "\n",
    "    print(tabulate.tabulate(table, tablefmt=\"latex_booktabs\", headers=cols, stralign='decimal', numalign='decimal'))\n",
    "\n",
    "printLatexTable(df2plot_mean_dice, df2plot_std_dice, indices, 2)\n",
    "printLatexTable(df2plot_mean_95hd, df2plot_std_95hd, indices, 2)\n",
    "\n",
    "#fig, ax = plt.subplots(figsize=(10, 5))"
   ]
  },
  {
   "cell_type": "code",
   "execution_count": null,
   "metadata": {},
   "outputs": [],
   "source": []
  }
 ],
 "metadata": {
  "kernelspec": {
   "display_name": "Python 3",
   "language": "python",
   "name": "python3"
  },
  "language_info": {
   "codemirror_mode": {
    "name": "ipython",
    "version": 3
   },
   "file_extension": ".py",
   "mimetype": "text/x-python",
   "name": "python",
   "nbconvert_exporter": "python",
   "pygments_lexer": "ipython3",
   "version": "3.5.2"
  }
 },
 "nbformat": 4,
 "nbformat_minor": 2
}
