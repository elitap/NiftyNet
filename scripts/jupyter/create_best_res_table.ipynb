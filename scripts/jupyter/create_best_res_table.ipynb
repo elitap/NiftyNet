{
 "cells": [
  {
   "cell_type": "code",
   "execution_count": 1,
   "metadata": {},
   "outputs": [],
   "source": [
    "import tabulate\n",
    "import numpy as np\n",
    "import pandas as pd"
   ]
  },
  {
   "cell_type": "markdown",
   "metadata": {},
   "source": [
    "## Create group comparsion table"
   ]
  },
  {
   "cell_type": "code",
   "execution_count": 72,
   "metadata": {},
   "outputs": [
    {
     "name": "stdout",
     "output_type": "stream",
     "text": [
      "\\begin{tabular}{rrrrrrrrrr}\n",
      "\\toprule\n",
      "              &   FH &   IM &   UB &   UC &   UW &   VU &   SJTU &   SU &   UMIT \\\\\n",
      "\\midrule\n",
      "    Brainstem & 0.75 & 0.87 & 0.85 & 0.86 &      & 0.8  &        &      &   0.82 \\\\\n",
      "       Chiasm & 0.36 & 0.38 & 0.56 &      &      & 0.37 &   0.58 & 0.37 &   0.42 \\\\\n",
      "     Mandible & 0.82 & 0.93 & 0.89 & 0.94 & 0.78 & 0.92 &        & 0.9  &   0.91 \\\\\n",
      " OpticNerve\\_L & 0.47 & 0.69 & 0.6  &      & 0.34 & 0.64 &   0.72 & 0.64 &   0.64 \\\\\n",
      " OpticNerve\\_R & 0.51 & 0.67 & 0.63 &      & 0.28 & 0.6  &   0.7  & 0.64 &   0.63 \\\\\n",
      "    Parotid\\_L & 0.69 & 0.85 & 0.83 & 0.78 &      & 0.81 &        & 0.77 &   0.8  \\\\\n",
      "    Parotid\\_R & 0.69 & 0.83 & 0.8  & 0.75 &      & 0.81 &        & 0.78 &   0.81 \\\\\n",
      "\\bottomrule\n",
      "\\end{tabular}\n",
      "\\begin{tabular}{rrrrrrrrrr}\n",
      "\\toprule\n",
      "              &   FH &   IM &   UB &   UC &    UW &   VU &   SJTU &   SU &   UMIT \\\\\n",
      "\\midrule\n",
      "    Brainstem & 5.99 & 3.87 & 4.63 & 3.98 &       & 5.31 &        &      &  12.4  \\\\\n",
      "       Chiasm & 3.96 & 3.45 & 2.75 &      &       & 4.13 &   2.81 &      &   4.36 \\\\\n",
      "     Mandible & 4.1  & 2.05 & 2.63 & 1.86 & 12.78 & 2.41 &        &      &   2.4  \\\\\n",
      " OpticNerve\\_L & 3.5  & 2.42 & 3.29 &      &  8.56 & 2.82 &   2.33 &      &   2.83 \\\\\n",
      " OpticNerve\\_R & 3.17 & 2.64 & 3.26 &      &  8.63 & 3.2  &   2.13 &      &   2.59 \\\\\n",
      "    Parotid\\_L & 8.14 & 5.32 & 5.01 & 6.7  &       & 7.04 &        &      &  14.1  \\\\\n",
      "    Parotid\\_R & 8.28 & 6.16 & 6.25 & 7.34 &       & 6.62 &        &      &   5.24 \\\\\n",
      "\\bottomrule\n",
      "\\end{tabular}\n"
     ]
    }
   ],
   "source": [
    "csvfile = \"../../results/results_paper_graph_final.csv\"\n",
    "df = pd.read_csv(csvfile)\n",
    "\n",
    "temp_df = df.drop(['std-95hd','mean-95hd', 'std-dice'], axis=1)\n",
    "df2plot_mean_dice = temp_df.pivot(index='organ', columns='Groups', values='mean-dice')\n",
    "\n",
    "cols = df2plot_mean_dice.columns.tolist()\n",
    "indices = df2plot_mean_dice.index.values\n",
    "cols.insert(len(cols)-1, cols.pop(cols.index('SJTU')))\n",
    "cols.insert(len(cols)-1, cols.pop(cols.index('SU')))\n",
    "cols.insert(len(cols), cols.pop(cols.index('UMIT')))\n",
    "\n",
    "temp_df = df.drop(['std-95hd', 'mean-95hd', 'mean-dice'], axis=1)\n",
    "df2plot_std_dice = temp_df.pivot(index='organ', columns='Groups', values='std-dice')\n",
    "\n",
    "temp_df = df.drop(['std-dice', 'mean-dice', 'std-95hd'], axis=1)\n",
    "df2plot_mean_95hd = temp_df.pivot(index='organ', columns='Groups', values='mean-95hd')\n",
    "\n",
    "\n",
    "temp_df = df.drop(['std-dice', 'mean-dice', 'mean-95hd'], axis=1)\n",
    "df2plot_std_95hd = temp_df.pivot(index='organ', columns='Groups', values='std-95hd')\n",
    "\n",
    "df2plot_mean_dice = df2plot_mean_dice.reindex(columns=cols)\n",
    "df2plot_std_dice = df2plot_std_dice.reindex(columns=cols)\n",
    "df2plot_mean_95hd = df2plot_mean_95hd.reindex(columns=cols)\n",
    "df2plot_std_95hd = df2plot_std_95hd.reindex(columns=cols)\n",
    "\n",
    "def printLatexTable(value_df, std_df, indices, round_dec = 2):  \n",
    "\n",
    "    value_np = np.round(value_df.values, round_dec).astype('str')\n",
    "    #std_np = np.round(std_df.values, round_dec).astype('str')\n",
    "\n",
    "    table = list()\n",
    "    for cnt, row in enumerate(value_np):\n",
    "    #    table.append([(row[i] + \" ? \" + std_np[cnt,i]) if row[i] not in 'nan' else '' for i in range(len(row))])\n",
    "        table.append([str(row[i]) if row[i] not in 'nan' else '' for i in range(len(row))])\n",
    "    \n",
    "    table = np.c_[indices, table]#(, 0, axis=1)    \n",
    "\n",
    "    print(tabulate.tabulate(table, tablefmt=\"latex_booktabs\", headers=cols, stralign='decimal', numalign='decimal'))\n",
    "\n",
    "printLatexTable(df2plot_mean_dice, df2plot_std_dice, indices, 2)\n",
    "printLatexTable(df2plot_mean_95hd, df2plot_std_95hd, indices, 2)\n",
    "\n",
    "#fig, ax = plt.subplots(figsize=(10, 5))"
   ]
  },
  {
   "cell_type": "markdown",
   "metadata": {},
   "source": [
    "## Create config comparsion table"
   ]
  },
  {
   "cell_type": "code",
   "execution_count": 62,
   "metadata": {},
   "outputs": [
    {
     "name": "stdout",
     "output_type": "stream",
     "text": [
      "\\begin{tabular}{rrrrr}\n",
      "\\toprule\n",
      "        Organ &      coarse &   c.unmasked &       c.iso &        fine \\\\\n",
      "\\midrule\n",
      "    BrainStem & 0.85 ? 0.02 &  0.82 ? 0.06 & 0.86 ? 0.02 & 0.82 ? 0.04 \\\\\n",
      "       Chiasm & 0.42 ? 0.18 &  0.39 ? 0.21 &  0.5 ? 0.19 & 0.42 ? 0.17 \\\\\n",
      "     Mandible & 0.89 ? 0.02 &  0.86 ? 0.02 & 0.88 ? 0.03 & 0.91 ? 0.02 \\\\\n",
      " OpticNerve\\_L & 0.61 ? 0.08 &   0.6 ? 0.08 &   0.6 ? 0.1 & 0.64 ? 0.08 \\\\\n",
      " OpticNerve\\_R & 0.54 ? 0.09 &  0.55 ? 0.09 &  0.6 ? 0.08 & 0.63 ? 0.06 \\\\\n",
      "    Parotid\\_L & 0.84 ? 0.04 &  0.82 ? 0.04 & 0.85 ? 0.02 &   0.8 ? 0.1 \\\\\n",
      "    Parotid\\_R & 0.83 ? 0.06 &   0.8 ? 0.06 & 0.81 ? 0.09 & 0.81 ? 0.08 \\\\\n",
      "\\bottomrule\n",
      "\\end{tabular}\n",
      "\\begin{tabular}{rrrrr}\n",
      "\\toprule\n",
      "        Organ &      coarse &   c.unmasked &       c.iso &        fine \\\\\n",
      "\\midrule\n",
      "    BrainStem &   3.9 ? 0.8 &    4.1 ? 1.3 &   3.8 ? 0.8 & 12.4 ? 26.3 \\\\\n",
      "       Chiasm &   3.3 ? 1.0 &    4.2 ? 1.2 &   3.6 ? 1.9 &   4.4 ? 3.0 \\\\\n",
      "     Mandible & 11.1 ? 33.9 &  61.4 ? 35.2 & 23.5 ? 36.2 &   2.4 ? 0.6 \\\\\n",
      " OpticNerve\\_L &   3.3 ? 1.4 &  11.5 ? 29.6 &   3.3 ? 1.4 &   2.8 ? 0.9 \\\\\n",
      " OpticNerve\\_R &   2.9 ? 0.5 &    3.8 ? 2.3 &   3.0 ? 0.7 &   2.6 ? 0.4 \\\\\n",
      "    Parotid\\_L & 14.7 ? 38.8 &  26.7 ? 51.1 & 24.9 ? 49.2 & 14.1 ? 33.3 \\\\\n",
      "    Parotid\\_R & 13.3 ? 32.7 &  26.2 ? 52.1 & 17.0 ? 46.0 &   5.2 ? 1.8 \\\\\n",
      "\\bottomrule\n",
      "\\end{tabular}\n"
     ]
    }
   ],
   "source": [
    "coarse_test = \"../../results/orig_size_res/coarse_test_100k_evaluated_organwise.csv\"\n",
    "fine_test = \"../../results/orig_size_res/fine_test_50k_evaluated_organwise.csv\"\n",
    "\n",
    "best_coarse = \"hr3d_half_e-3_16-72_dice_1024s\"\n",
    "best_coarse_umasked = \"hr3d_half_e-3_16-72_dice_1024s_unmasked\"\n",
    "best_coarse_iso = \"hr3d_half_e-3_16-72_dice_1024s_iso\"\n",
    "best_fine = \"hr3d_h_e-3_16-72_d_100k__full_e-4_24-24_gdsc_1024s_dil13\"\n",
    "\n",
    "coarse_df = pd.read_csv(coarse_test)\n",
    "fine_df = pd.read_csv(fine_test)\n",
    "\n",
    "def filterDataframes_by_key(df, key):\n",
    "    filtered_df = df.loc[df['Unnamed: 0'] == key][[\"Unnamed: 2\", \"95haus_dist.1\", \"95haus_dist.2\", \"dice.1\", \"dice.2\"]]\n",
    "    filtered_df = filtered_df.copy()\n",
    "    \n",
    "    filtered_df.reset_index(inplace=True, drop=True)\n",
    "    filtered_df.rename(columns={'Unnamed: 2': 'organ', '95haus_dist.1': '95hd_mean', '95haus_dist.2': '95hd_std', 'dice.1': 'dice_mean', 'dice.2': 'dice_std'}, inplace=True)\n",
    "    filtered_df['95hd_mean'] = filtered_df['95hd_mean'].astype(float).round(1)\n",
    "    filtered_df['95hd_std'] = filtered_df['95hd_std'].astype(float).round(1)\n",
    "    #print(filtered_df)\n",
    "    filtered_df['95hd'] = filtered_df['95hd_mean'].map(str) + \" ? \" + filtered_df['95hd_std'].map(str)\n",
    "    filtered_df['dice'] = filtered_df['dice_mean'].map(str) + \" ? \" + filtered_df['dice_std'].map(str)\n",
    "    #print(filtered_df.head(8))\n",
    "    return filtered_df\n",
    "    \n",
    "c_best_df = filterDataframes_by_key(coarse_df, best_coarse)\n",
    "c_umasked_df = filterDataframes_by_key(coarse_df, best_coarse_umasked)\n",
    "c_iso_df = filterDataframes_by_key(coarse_df, best_coarse_iso)\n",
    "f_best = filterDataframes_by_key(fine_df, best_fine)\n",
    "\n",
    "dice_np =  np.c_[c_best_df['organ'].values, c_best_df['dice'].values, c_umasked_df['dice'], c_iso_df['dice'], f_best['dice']]\n",
    "hd_np =  np.c_[c_best_df['organ'].values, c_best_df['95hd'].values, c_umasked_df['95hd'], c_iso_df['95hd'], f_best['95hd']]\n",
    "\n",
    "header = [\"Organ\", \"coarse\", \"c.unmasked\", \"c.iso\", \"fine\"]\n",
    "print(tabulate.tabulate(dice_np, tablefmt=\"latex_booktabs\", headers=header, stralign='decimal', numalign='decimal'))\n",
    "print(tabulate.tabulate(hd_np, tablefmt=\"latex_booktabs\", headers=header, stralign='decimal', numalign='decimal'))\n",
    "\n",
    "#df_best = coarse_df.loc[coarse_df['Unnamed: 0'] == best_coarse][[\"Unnamed: 2\", \"95haus_dist.1\", \"95haus_dist.2\", \"dice.1\", \"dice.2\"]]\n",
    "#df_best.head(8)"
   ]
  },
  {
   "cell_type": "code",
   "execution_count": null,
   "metadata": {},
   "outputs": [],
   "source": []
  },
  {
   "cell_type": "code",
   "execution_count": null,
   "metadata": {},
   "outputs": [],
   "source": []
  }
 ],
 "metadata": {
  "kernelspec": {
   "display_name": "Python 3",
   "language": "python",
   "name": "python3"
  },
  "language_info": {
   "codemirror_mode": {
    "name": "ipython",
    "version": 3
   },
   "file_extension": ".py",
   "mimetype": "text/x-python",
   "name": "python",
   "nbconvert_exporter": "python",
   "pygments_lexer": "ipython3",
   "version": "3.5.2"
  }
 },
 "nbformat": 4,
 "nbformat_minor": 2
}
