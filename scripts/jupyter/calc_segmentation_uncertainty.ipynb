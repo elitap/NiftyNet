{
 "cells": [
  {
   "cell_type": "code",
   "execution_count": 90,
   "metadata": {},
   "outputs": [],
   "source": [
    "%matplotlib notebook\n",
    "#%run script\n",
    "import os\n",
    "\n",
    "os.sys.path.append(\"..\") #script path\n",
    "\n",
    "import defs\n",
    "import nibabel as nib\n",
    "import numpy as np\n",
    "from scipy import stats\n",
    "import pandas as pd"
   ]
  },
  {
   "cell_type": "code",
   "execution_count": 91,
   "metadata": {},
   "outputs": [],
   "source": [
    "KEY_ID = 9\n",
    "seg_prob_dir = \"../../fine_stage/hr3d_h_e-3_16-72_d_100k__full_e-4_24-24_gdsc_1024s_dil13/output/50000_test_prob/\"\n",
    "seg_ref_dir = \"../../data/HaN_MICCAI2015_Dataset/nii_segmentations_orig/\""
   ]
  },
  {
   "cell_type": "code",
   "execution_count": 99,
   "metadata": {},
   "outputs": [
    {
     "name": "stdout",
     "output_type": "stream",
     "text": [
      "evaluating:  0522c0669 (512, 512, 137, 1, 8) (512, 512, 137)\n",
      "evaluating:  0522c0555 (512, 512, 263, 1, 8) (512, 512, 263)\n",
      "evaluating:  0522c0708 (512, 512, 160, 1, 8) (512, 512, 159)\n"
     ]
    },
    {
     "ename": "IndexError",
     "evalue": "boolean index did not match indexed array along dimension 2; dimension is 160 but corresponding boolean dimension is 159",
     "output_type": "error",
     "traceback": [
      "\u001b[0;31m---------------------------------------------------------------------------\u001b[0m",
      "\u001b[0;31mIndexError\u001b[0m                                Traceback (most recent call last)",
      "\u001b[0;32m<ipython-input-99-91b0518e56a2>\u001b[0m in \u001b[0;36m<module>\u001b[0;34m()\u001b[0m\n\u001b[1;32m     17\u001b[0m             \u001b[0mprint\u001b[0m\u001b[0;34m(\u001b[0m\u001b[0;34m\"evaluating: \"\u001b[0m\u001b[0;34m,\u001b[0m \u001b[0mfile_id\u001b[0m\u001b[0;34m,\u001b[0m \u001b[0mprob_np\u001b[0m\u001b[0;34m.\u001b[0m\u001b[0mshape\u001b[0m\u001b[0;34m,\u001b[0m \u001b[0mref_np\u001b[0m\u001b[0;34m.\u001b[0m\u001b[0mshape\u001b[0m\u001b[0;34m)\u001b[0m\u001b[0;34m\u001b[0m\u001b[0m\n\u001b[1;32m     18\u001b[0m             \u001b[0;32mfor\u001b[0m \u001b[0mkey\u001b[0m\u001b[0;34m,\u001b[0m \u001b[0mvalue\u001b[0m \u001b[0;32min\u001b[0m \u001b[0mdefs\u001b[0m\u001b[0;34m.\u001b[0m\u001b[0mLABELS\u001b[0m\u001b[0;34m.\u001b[0m\u001b[0mitems\u001b[0m\u001b[0;34m(\u001b[0m\u001b[0;34m)\u001b[0m\u001b[0;34m:\u001b[0m\u001b[0;34m\u001b[0m\u001b[0m\n\u001b[0;32m---> 19\u001b[0;31m                 \u001b[0mlabel_prob\u001b[0m \u001b[0;34m=\u001b[0m \u001b[0mprob_np\u001b[0m\u001b[0;34m[\u001b[0m\u001b[0;34m...\u001b[0m\u001b[0;34m,\u001b[0m\u001b[0mvalue\u001b[0m\u001b[0;34m]\u001b[0m\u001b[0;34m.\u001b[0m\u001b[0msqueeze\u001b[0m\u001b[0;34m(\u001b[0m\u001b[0;34m)\u001b[0m\u001b[0;34m[\u001b[0m\u001b[0mref_np\u001b[0m \u001b[0;34m==\u001b[0m \u001b[0mvalue\u001b[0m\u001b[0;34m]\u001b[0m\u001b[0;34m\u001b[0m\u001b[0m\n\u001b[0m\u001b[1;32m     20\u001b[0m                 \u001b[0mcnt\u001b[0m\u001b[0;34m,\u001b[0m \u001b[0mminmax\u001b[0m\u001b[0;34m,\u001b[0m \u001b[0mmean\u001b[0m\u001b[0;34m,\u001b[0m \u001b[0mstd\u001b[0m\u001b[0;34m,\u001b[0m \u001b[0m_\u001b[0m\u001b[0;34m,\u001b[0m \u001b[0m_\u001b[0m \u001b[0;34m=\u001b[0m \u001b[0mstats\u001b[0m\u001b[0;34m.\u001b[0m\u001b[0mdescribe\u001b[0m\u001b[0;34m(\u001b[0m\u001b[0mlabel_prob\u001b[0m\u001b[0;34m)\u001b[0m\u001b[0;34m\u001b[0m\u001b[0m\n\u001b[1;32m     21\u001b[0m                 \u001b[0mmedian\u001b[0m \u001b[0;34m=\u001b[0m \u001b[0mnp\u001b[0m\u001b[0;34m.\u001b[0m\u001b[0mmedian\u001b[0m\u001b[0;34m(\u001b[0m\u001b[0mlabel_prob\u001b[0m\u001b[0;34m)\u001b[0m\u001b[0;34m\u001b[0m\u001b[0m\n",
      "\u001b[0;31mIndexError\u001b[0m: boolean index did not match indexed array along dimension 2; dimension is 160 but corresponding boolean dimension is 159"
     ]
    }
   ],
   "source": [
    "def addToDict(dictionary, key, value):\n",
    "    if dictionary.get(key) is None:\n",
    "        dictionary[key] = [value]\n",
    "    else:\n",
    "        dictionary[key].append(value)\n",
    "        \n",
    "prob_dict = dict()\n",
    "df = pd.DataFrame(columns=['file','organ','vox_cnt','mean','std', 'median','max', 'min'])\n",
    "\n",
    "for prob_file in os.listdir(seg_prob_dir):\n",
    "    for ref_file in os.listdir(seg_ref_dir):\n",
    "        file_id = prob_file[:KEY_ID]\n",
    "        if file_id in ref_file[:KEY_ID]:   \n",
    "            \n",
    "            prob_np = nib.load(os.path.join(seg_prob_dir, prob_file)).get_fdata()\n",
    "            ref_np = nib.load(os.path.join(seg_ref_dir, ref_file)).get_fdata().astype(np.uint8)\n",
    "            print(\"evaluating: \", file_id, prob_np.shape, ref_np.shape)\n",
    "            for key, value in defs.LABELS.items():\n",
    "                label_prob = prob_np[...,value].squeeze()[ref_np == value]\n",
    "                cnt, minmax, mean, std, _, _ = stats.describe(label_prob)\n",
    "                median = np.median(label_prob)\n",
    "                df.append({'file':file_id, 'organ':key, 'vox_cnt':cnt, 'mean':mean, 'std':std, 'median':median,\n",
    "                          'max':minmax[1], 'min':minmax[0]}, ignore_index=True)\n",
    "                \n",
    "                addToDict(prob_dict, key, label_prob)"
   ]
  },
  {
   "cell_type": "code",
   "execution_count": 76,
   "metadata": {},
   "outputs": [],
   "source": [
    "sample_prob = os.path.join(seg_prob_dir, \"0522c0598_niftynet_out.nii.gz\")\n",
    "sample_ref = os.path.join(seg_ref_dir, \"0522c0598_segmentation.nii.gz\")\n",
    "\n",
    "prob_img = nib.load(sample_prob)\n",
    "ref_img = nib.load(sample_ref)\n",
    "\n",
    "prob_np = prob_img.get_fdata()\n",
    "ref_np = ref_img.get_fdata().astype(np.uint8)"
   ]
  },
  {
   "cell_type": "code",
   "execution_count": 18,
   "metadata": {},
   "outputs": [
    {
     "name": "stdout",
     "output_type": "stream",
     "text": [
      "(512, 512, 135, 1, 8) (512, 512, 135)\n"
     ]
    }
   ],
   "source": [
    "print(prob_img.get_fdata().shape, prob_ref.get_fdata().shape)"
   ]
  },
  {
   "cell_type": "code",
   "execution_count": 87,
   "metadata": {},
   "outputs": [
    {
     "name": "stdout",
     "output_type": "stream",
     "text": [
      "BrainStem 5825 (3.96249470213661e-06, 1.0) 0.9044478786417931 0.06826904683904156 0.9999754428863525\n",
      "Parotid_L 8077 (1.565431873018497e-08, 1.0) 0.8888049556507017 0.08343390463160404 0.9999872446060181\n",
      "OpticNerve_R 146 (4.503764102992136e-06, 1.0) 0.8595461799008985 0.11582381645177779 1.0\n",
      "Parotid_R 7846 (3.1416800538863754e-07, 1.0) 0.8879305652714555 0.08220605726737584 0.9998632669448853\n",
      "Mandible 12879 (8.333314482911192e-09, 1.0) 0.8482818027497093 0.11512122308216441 0.9999936819076538\n",
      "OpticNerve_L 154 (7.649421718269878e-08, 1.0) 0.8340159570164173 0.13202929717018744 1.0\n",
      "Chiasm 274 (4.257166779098043e-07, 1.0) 0.3191276427539802 0.20889703824034186 0.00019908894319087267\n"
     ]
    }
   ],
   "source": [
    "for key, value in defs.LABELS.items():\n",
    "    label_prob = prob_np[...,value].squeeze()[ref_np == value]\n",
    "    cnt, minmax, mean, std, _, _ = stats.describe(label_prob)\n",
    "    median = np.median(label_prob)\n",
    "    print(key, cnt, minmax, mean, std, median)"
   ]
  },
  {
   "cell_type": "code",
   "execution_count": 78,
   "metadata": {},
   "outputs": [
    {
     "name": "stdout",
     "output_type": "stream",
     "text": [
      "0522c0598\n"
     ]
    }
   ],
   "source": [
    "print(\"0522c0598_niftynet_out.nii.gz\"[:9])"
   ]
  },
  {
   "cell_type": "code",
   "execution_count": null,
   "metadata": {},
   "outputs": [],
   "source": [
    "dispaly(df.groupby(['organ']).mean())"
   ]
  }
 ],
 "metadata": {
  "kernelspec": {
   "display_name": "Python 2",
   "language": "python",
   "name": "python2"
  },
  "language_info": {
   "codemirror_mode": {
    "name": "ipython",
    "version": 3
   },
   "file_extension": ".py",
   "mimetype": "text/x-python",
   "name": "python",
   "nbconvert_exporter": "python",
   "pygments_lexer": "ipython3",
   "version": "3.5.2"
  }
 },
 "nbformat": 4,
 "nbformat_minor": 1
}
