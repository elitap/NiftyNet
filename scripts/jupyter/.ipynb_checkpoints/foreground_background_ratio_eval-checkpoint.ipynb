{
 "cells": [
  {
   "cell_type": "code",
   "execution_count": 20,
   "metadata": {},
   "outputs": [],
   "source": [
    "%matplotlib notebook\n",
    "%run notebook_start.py --f=10"
   ]
  },
  {
   "cell_type": "code",
   "execution_count": 4,
   "metadata": {},
   "outputs": [],
   "source": [
    "import pandas as pd"
   ]
  },
  {
   "cell_type": "code",
   "execution_count": 14,
   "metadata": {},
   "outputs": [],
   "source": [
    "file = \"../../results/imbal_ratio_train_weighted_1024.csv\"\n",
    "df = pd.read_csv(file)"
   ]
  },
  {
   "cell_type": "code",
   "execution_count": 19,
   "metadata": {},
   "outputs": [
    {
     "data": {
      "text/html": [
       "<div>\n",
       "<style scoped>\n",
       "    .dataframe tbody tr th:only-of-type {\n",
       "        vertical-align: middle;\n",
       "    }\n",
       "\n",
       "    .dataframe tbody tr th {\n",
       "        vertical-align: top;\n",
       "    }\n",
       "\n",
       "    .dataframe thead th {\n",
       "        text-align: right;\n",
       "    }\n",
       "</style>\n",
       "<table border=\"1\" class=\"dataframe\">\n",
       "  <thead>\n",
       "    <tr style=\"text-align: right;\">\n",
       "      <th></th>\n",
       "      <th>Dataset</th>\n",
       "      <th>Datasize</th>\n",
       "      <th>Windowsize</th>\n",
       "      <th>File</th>\n",
       "      <th>Sample</th>\n",
       "      <th>OpticNerve_L</th>\n",
       "      <th>Chiasm</th>\n",
       "      <th>Mandible</th>\n",
       "      <th>Parotid_R</th>\n",
       "      <th>BrainStem</th>\n",
       "      <th>Parotid_L</th>\n",
       "      <th>OpticNerve_R</th>\n",
       "    </tr>\n",
       "  </thead>\n",
       "  <tbody>\n",
       "    <tr>\n",
       "      <th>103892</th>\n",
       "      <td>Train</td>\n",
       "      <td>full</td>\n",
       "      <td>24</td>\n",
       "      <td>0522c0002</td>\n",
       "      <td>468</td>\n",
       "      <td>0.0</td>\n",
       "      <td>0.000000</td>\n",
       "      <td>0.0</td>\n",
       "      <td>0.0</td>\n",
       "      <td>1.204082</td>\n",
       "      <td>0.0</td>\n",
       "      <td>0.0</td>\n",
       "    </tr>\n",
       "    <tr>\n",
       "      <th>105971</th>\n",
       "      <td>Train</td>\n",
       "      <td>full</td>\n",
       "      <td>24</td>\n",
       "      <td>0522c0009</td>\n",
       "      <td>499</td>\n",
       "      <td>0.0</td>\n",
       "      <td>0.000000</td>\n",
       "      <td>0.0</td>\n",
       "      <td>0.0</td>\n",
       "      <td>1.012227</td>\n",
       "      <td>0.0</td>\n",
       "      <td>0.0</td>\n",
       "    </tr>\n",
       "    <tr>\n",
       "      <th>113792</th>\n",
       "      <td>Train</td>\n",
       "      <td>full</td>\n",
       "      <td>24</td>\n",
       "      <td>0522c0081</td>\n",
       "      <td>128</td>\n",
       "      <td>0.0</td>\n",
       "      <td>0.003345</td>\n",
       "      <td>0.0</td>\n",
       "      <td>0.0</td>\n",
       "      <td>1.007126</td>\n",
       "      <td>0.0</td>\n",
       "      <td>0.0</td>\n",
       "    </tr>\n",
       "    <tr>\n",
       "      <th>114495</th>\n",
       "      <td>Train</td>\n",
       "      <td>full</td>\n",
       "      <td>24</td>\n",
       "      <td>0522c0081</td>\n",
       "      <td>831</td>\n",
       "      <td>0.0</td>\n",
       "      <td>0.000000</td>\n",
       "      <td>0.0</td>\n",
       "      <td>0.0</td>\n",
       "      <td>1.194634</td>\n",
       "      <td>0.0</td>\n",
       "      <td>0.0</td>\n",
       "    </tr>\n",
       "  </tbody>\n",
       "</table>\n",
       "</div>"
      ],
      "text/plain": [
       "       Dataset Datasize  Windowsize       File  Sample  OpticNerve_L  \\\n",
       "103892   Train     full          24  0522c0002     468           0.0   \n",
       "105971   Train     full          24  0522c0009     499           0.0   \n",
       "113792   Train     full          24  0522c0081     128           0.0   \n",
       "114495   Train     full          24  0522c0081     831           0.0   \n",
       "\n",
       "          Chiasm  Mandible  Parotid_R  BrainStem  Parotid_L  OpticNerve_R  \n",
       "103892  0.000000       0.0        0.0   1.204082        0.0           0.0  \n",
       "105971  0.000000       0.0        0.0   1.012227        0.0           0.0  \n",
       "113792  0.003345       0.0        0.0   1.007126        0.0           0.0  \n",
       "114495  0.000000       0.0        0.0   1.194634        0.0           0.0  "
      ]
     },
     "execution_count": 19,
     "metadata": {},
     "output_type": "execute_result"
    }
   ],
   "source": [
    "df[df[\"BrainStem\"] > 1.0]"
   ]
  },
  {
   "cell_type": "markdown",
   "metadata": {},
   "source": [
    "# asdaf\n",
    "fgdfdhsgdfsd *sdfsdf* **asdfa**"
   ]
  },
  {
   "cell_type": "code",
   "execution_count": null,
   "metadata": {},
   "outputs": [],
   "source": []
  },
  {
   "cell_type": "code",
   "execution_count": null,
   "metadata": {},
   "outputs": [],
   "source": []
  },
  {
   "cell_type": "code",
   "execution_count": null,
   "metadata": {},
   "outputs": [],
   "source": []
  },
  {
   "cell_type": "code",
   "execution_count": null,
   "metadata": {},
   "outputs": [],
   "source": []
  },
  {
   "cell_type": "code",
   "execution_count": null,
   "metadata": {},
   "outputs": [],
   "source": []
  }
 ],
 "metadata": {
  "kernelspec": {
   "display_name": "Python 2",
   "language": "python",
   "name": "python2"
  },
  "language_info": {
   "codemirror_mode": {
    "name": "ipython",
    "version": 2
   },
   "file_extension": ".py",
   "mimetype": "text/x-python",
   "name": "python",
   "nbconvert_exporter": "python",
   "pygments_lexer": "ipython2",
   "version": "2.7.12"
  }
 },
 "nbformat": 4,
 "nbformat_minor": 2
}
