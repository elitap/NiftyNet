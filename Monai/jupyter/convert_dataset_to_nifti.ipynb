{
 "cells": [
  {
   "cell_type": "code",
   "execution_count": 23,
   "metadata": {
    "collapsed": true
   },
   "outputs": [],
   "source": [
    "import SimpleITK as sitk\n",
    "import numpy as np\n",
    "import os\n",
    "import shutil"
   ]
  },
  {
   "cell_type": "code",
   "execution_count": 24,
   "outputs": [
    {
     "name": "stdout",
     "output_type": "stream",
     "text": [
      "0522c0003_segmentation_coarse.nii.gz\n",
      "0522c0001_segmentation_coarse.nii.gz\n",
      "0522c0002_segmentation_coarse.nii.gz\n",
      "0522c0014_segmentation_coarse.nii.gz\n",
      "conv\n",
      "0522c0013_segmentation_coarse.nii.gz\n",
      "0522c0009_segmentation_coarse.nii.gz\n"
     ]
    }
   ],
   "source": [
    "dataset_dir = \"../models/test1_mydice/output/coarse/train/\"\n",
    "new_dataset_dir = \"../models/test1_mydice/output/coarse/train/conv/\"\n",
    "\n",
    "for img_file in os.listdir(dataset_dir):\n",
    "    print(img_file)\n",
    "    img_file_path = os.path.join(dataset_dir, img_file)\n",
    "    if img_file.endswith(\"volume.nrrd\"):\n",
    "        itk_img = sitk.ReadImage(img_file_path)\n",
    "        new_img_file_path = os.path.join(new_dataset_dir,\n",
    "                                         os.path.splitext(img_file)[0]+\".nii.gz\")\n",
    "        sitk.WriteImage(itk_img, new_img_file_path)\n",
    "    if img_file.endswith(\"segmentation.nrrd\"):\n",
    "        itk_img = sitk.ReadImage(img_file_path, sitk.sitkUInt8)\n",
    "        new_img_file_path = os.path.join(new_dataset_dir,\n",
    "                                         os.path.splitext(img_file)[0]+\".nii.gz\")\n",
    "        sitk.WriteImage(itk_img, new_img_file_path)\n",
    "    if img_file.endswith(\"coarse.nii.gz\"):\n",
    "        itk_img = sitk.ReadImage(img_file_path, sitk.sitkUInt8)\n",
    "        new_img_file_path = os.path.join(new_dataset_dir,\n",
    "                                         img_file.replace(\"nii.gz\",\"nii.gz\"))\n",
    "        sitk.WriteImage(itk_img, new_img_file_path)\n",
    "    if img_file.endswith(\"foreground.nii.gz\"):\n",
    "        shutil.copyfile(img_file_path, os.path.join(new_dataset_dir, img_file))"
   ],
   "metadata": {
    "collapsed": false,
    "pycharm": {
     "name": "#%%\n"
    }
   }
  },
  {
   "cell_type": "code",
   "execution_count": 7,
   "outputs": [
    {
     "name": "stdout",
     "output_type": "stream",
     "text": [
      "0522c0002\n",
      "0522c0159\n",
      "0522c0009\n",
      "0522c0161\n",
      "0522c0195\n",
      "0522c0195\n",
      "0522c0009\n",
      "0522c0159\n",
      "0522c0159\n",
      "0522c0017\n",
      "0522c0195\n",
      "0522c0251\n",
      "0522c0328\n",
      "0522c0132\n",
      "0522c0017\n",
      "0522c0003\n",
      "0522c0070\n",
      "0522c0125\n",
      "0522c0251\n",
      "0522c0009\n",
      "0522c0226\n",
      "0522c0017\n",
      "0522c0190\n",
      "0522c0248\n",
      "0522c0057\n",
      "0522c0147\n",
      "0522c0147\n",
      "0522c0001\n",
      "0522c0125\n",
      "0522c0190\n",
      "0522c0081\n",
      "0522c0328\n",
      "0522c0077\n",
      "0522c0081\n",
      "0522c0079\n",
      "0522c0013\n",
      "0522c0226\n",
      "0522c0014\n",
      "0522c0077\n",
      "0522c0057\n",
      "0522c0077\n",
      "0522c0070\n",
      "0522c0149\n",
      "0522c0147\n",
      "0522c0013\n",
      "0522c0190\n",
      "0522c0253\n",
      "0522c0253\n",
      "0522c0001\n",
      "0522c0002\n",
      "0522c0248\n",
      "0522c0132\n",
      "0522c0002\n",
      "0522c0125\n",
      "0522c0079\n",
      "0522c0161\n",
      "0522c0014\n",
      "0522c0070\n",
      "0522c0014\n",
      "0522c0003\n",
      "0522c0149\n",
      "0522c0251\n",
      "0522c0003\n",
      "0522c0081\n",
      "0522c0057\n",
      "0522c0079\n",
      "0522c0226\n",
      "0522c0149\n",
      "0522c0248\n",
      "0522c0253\n",
      "0522c0132\n",
      "0522c0328\n",
      "0522c0001\n",
      "0522c0013\n",
      "0522c0161\n"
     ]
    }
   ],
   "source": [
    "new_dataset_dir = \"../data/miccai/full_dataset_nifti/train\"\n",
    "\n",
    "for img_file_id in os.listdir(new_dataset_dir):\n",
    "    img_id = img_file_id[:9]\n",
    "    print(img_id)\n",
    "    for img_file in os.listdir(new_dataset_dir):\n",
    "        if img_id in img_file and \"volume\" in img_file:\n",
    "            itk_vol_img = sitk.ReadImage(os.path.join(new_dataset_dir, img_file))\n",
    "    for img_file in os.listdir(new_dataset_dir):\n",
    "        if img_id in img_file and \"foreground\" in img_file:\n",
    "            itk_mask_img = sitk.ReadImage(os.path.join(new_dataset_dir, img_file))\n",
    "    for img_file in os.listdir(new_dataset_dir):\n",
    "        if img_id in img_file and \"segmentation\" in img_file:\n",
    "            itk_label_img = sitk.ReadImage(os.path.join(new_dataset_dir, img_file))\n",
    "    assert np.array_equal(itk_vol_img.GetSize(), itk_mask_img.GetSize()) and \\\n",
    "           np.array_equal(itk_vol_img.GetSize(), itk_label_img.GetSize())\n",
    "\n",
    "\n",
    "\n"
   ],
   "metadata": {
    "collapsed": false,
    "pycharm": {
     "name": "#%%\n"
    }
   }
  },
  {
   "cell_type": "code",
   "execution_count": null,
   "outputs": [],
   "source": [
    "\n"
   ],
   "metadata": {
    "collapsed": false,
    "pycharm": {
     "name": "#%%\n"
    }
   }
  }
 ],
 "metadata": {
  "kernelspec": {
   "display_name": "Python 3",
   "language": "python",
   "name": "python3"
  },
  "language_info": {
   "codemirror_mode": {
    "name": "ipython",
    "version": 2
   },
   "file_extension": ".py",
   "mimetype": "text/x-python",
   "name": "python",
   "nbconvert_exporter": "python",
   "pygments_lexer": "ipython2",
   "version": "2.7.6"
  }
 },
 "nbformat": 4,
 "nbformat_minor": 0
}